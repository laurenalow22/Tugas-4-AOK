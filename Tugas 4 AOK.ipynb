{
 "cells": [
  {
   "cell_type": "code",
   "execution_count": 1,
   "metadata": {},
   "outputs": [],
   "source": [
    "#assign data survey\n",
    "#install library\n",
    "mydata <- read.csv('data survey.csv', header=TRUE)\n",
    "library(psych)"
   ]
  },
  {
   "cell_type": "markdown",
   "metadata": {},
   "source": [
    "# Cronbach Alpha"
   ]
  },
  {
   "cell_type": "code",
   "execution_count": 2,
   "metadata": {
    "scrolled": false
   },
   "outputs": [
    {
     "data": {
      "text/plain": [
       "\n",
       "Reliability analysis   \n",
       "Call: alpha(x = mydata)\n",
       "\n",
       "  raw_alpha std.alpha G6(smc) average_r S/N    ase mean   sd median_r\n",
       "      0.88      0.88     0.9      0.38 7.5 0.0079  2.2 0.77     0.39\n",
       "\n",
       " lower alpha upper     95% confidence boundaries\n",
       "0.86 0.88 0.89 \n",
       "\n",
       " Reliability if an item is dropped:\n",
       "    raw_alpha std.alpha G6(smc) average_r S/N alpha se var.r med.r\n",
       "Q1       0.87      0.88    0.89      0.39 7.1   0.0084 0.025  0.41\n",
       "Q2       0.87      0.87    0.88      0.38 6.7   0.0088 0.024  0.38\n",
       "Q3       0.87      0.87    0.89      0.39 7.0   0.0085 0.024  0.39\n",
       "Q4       0.87      0.87    0.88      0.38 6.6   0.0088 0.023  0.39\n",
       "Q5       0.86      0.87    0.88      0.38 6.6   0.0089 0.023  0.39\n",
       "Q6       0.88      0.89    0.90      0.41 7.8   0.0077 0.021  0.43\n",
       "Q7       0.89      0.89    0.90      0.42 8.1   0.0074 0.017  0.43\n",
       "Q8       0.87      0.87    0.89      0.38 6.7   0.0088 0.026  0.39\n",
       "Q9       0.86      0.86    0.88      0.36 6.2   0.0095 0.021  0.38\n",
       "Q10      0.86      0.87    0.88      0.37 6.6   0.0090 0.023  0.38\n",
       "Q11      0.87      0.87    0.89      0.39 6.9   0.0086 0.023  0.42\n",
       "Q12      0.86      0.87    0.88      0.37 6.4   0.0091 0.022  0.38\n",
       "\n",
       " Item statistics \n",
       "      n raw.r std.r r.cor r.drop mean  sd\n",
       "Q1  500  0.61  0.61  0.56   0.52  2.3 1.2\n",
       "Q2  500  0.70  0.71  0.68   0.63  2.2 1.1\n",
       "Q3  500  0.63  0.64  0.60   0.55  1.6 1.0\n",
       "Q4  500  0.71  0.73  0.71   0.65  2.0 1.1\n",
       "Q5  500  0.72  0.72  0.71   0.65  2.1 1.2\n",
       "Q6  500  0.47  0.46  0.38   0.35  2.3 1.3\n",
       "Q7  500  0.40  0.38  0.29   0.27  3.8 1.3\n",
       "Q8  500  0.71  0.69  0.66   0.62  2.0 1.4\n",
       "Q9  500  0.82  0.82  0.82   0.77  2.0 1.2\n",
       "Q10 500  0.73  0.73  0.71   0.66  2.2 1.3\n",
       "Q11 500  0.64  0.65  0.62   0.57  1.7 1.0\n",
       "Q12 500  0.77  0.78  0.77   0.71  1.7 1.1\n",
       "\n",
       "Non missing response frequency for each item\n",
       "       1    2    3    4    5 miss\n",
       "Q1  0.39 0.08 0.36 0.13 0.03    0\n",
       "Q2  0.32 0.35 0.17 0.14 0.02    0\n",
       "Q3  0.69 0.11 0.13 0.05 0.02    0\n",
       "Q4  0.40 0.33 0.15 0.10 0.02    0\n",
       "Q5  0.39 0.31 0.14 0.13 0.03    0\n",
       "Q6  0.42 0.12 0.26 0.15 0.05    0\n",
       "Q7  0.10 0.08 0.10 0.37 0.34    0\n",
       "Q8  0.58 0.06 0.17 0.14 0.06    0\n",
       "Q9  0.55 0.04 0.27 0.11 0.03    0\n",
       "Q10 0.48 0.06 0.29 0.14 0.04    0\n",
       "Q11 0.68 0.08 0.17 0.07 0.01    0\n",
       "Q12 0.68 0.06 0.18 0.07 0.01    0"
      ]
     },
     "metadata": {},
     "output_type": "display_data"
    }
   ],
   "source": [
    "alpha(mydata)"
   ]
  },
  {
   "cell_type": "code",
   "execution_count": 3,
   "metadata": {},
   "outputs": [
    {
     "data": {
      "text/html": [
       "<ol class=list-inline>\n",
       "\t<li>'Q1'</li>\n",
       "\t<li>'Q2'</li>\n",
       "\t<li>'Q3'</li>\n",
       "\t<li>'Q4'</li>\n",
       "\t<li>'Q5'</li>\n",
       "\t<li>'Q6'</li>\n",
       "\t<li>'Q7'</li>\n",
       "\t<li>'Q8'</li>\n",
       "\t<li>'Q9'</li>\n",
       "\t<li>'Q10'</li>\n",
       "\t<li>'Q11'</li>\n",
       "\t<li>'Q12'</li>\n",
       "</ol>\n"
      ],
      "text/latex": [
       "\\begin{enumerate*}\n",
       "\\item 'Q1'\n",
       "\\item 'Q2'\n",
       "\\item 'Q3'\n",
       "\\item 'Q4'\n",
       "\\item 'Q5'\n",
       "\\item 'Q6'\n",
       "\\item 'Q7'\n",
       "\\item 'Q8'\n",
       "\\item 'Q9'\n",
       "\\item 'Q10'\n",
       "\\item 'Q11'\n",
       "\\item 'Q12'\n",
       "\\end{enumerate*}\n"
      ],
      "text/markdown": [
       "1. 'Q1'\n",
       "2. 'Q2'\n",
       "3. 'Q3'\n",
       "4. 'Q4'\n",
       "5. 'Q5'\n",
       "6. 'Q6'\n",
       "7. 'Q7'\n",
       "8. 'Q8'\n",
       "9. 'Q9'\n",
       "10. 'Q10'\n",
       "11. 'Q11'\n",
       "12. 'Q12'\n",
       "\n",
       "\n"
      ],
      "text/plain": [
       " [1] \"Q1\"  \"Q2\"  \"Q3\"  \"Q4\"  \"Q5\"  \"Q6\"  \"Q7\"  \"Q8\"  \"Q9\"  \"Q10\" \"Q11\" \"Q12\""
      ]
     },
     "metadata": {},
     "output_type": "display_data"
    }
   ],
   "source": [
    "names(mydata)"
   ]
  },
  {
   "cell_type": "code",
   "execution_count": 4,
   "metadata": {},
   "outputs": [
    {
     "name": "stdout",
     "output_type": "stream",
     "text": [
      "[1] \"Q1  = Seberapa sering anda menggunakan bahasa pemrograman C?\"\n",
      "[1] \"Q2  = Seberapa tahukah anda tentang bahasa permograman Java?\"\n",
      "[1] \"Q3  = Pernahkah anda membuat program menggunakan bahasa pemrograman Python?\"\n",
      "[1] \"Q4  = Seberapa tahukah anda tentang Pemrograman Interface (API)\"\n",
      "[1] \"Q5  = Seberapa tahukah anda tentang Pemrograman Berorientasi Objek (OOP)?\"\n",
      "[1] \"Q6  = Seberapa sering anda menggunakan programming software bajakan?\"\n",
      "[1] \"Q7  = Seberapa perlunya dokumen manual/tutorial ketika membuat program?\"\n",
      "[1] \"Q8  = Pernakah anda melakukan trial dan error atau mengembangkan program yang dibuat orang lain?\"\n",
      "[1] \"Q9  = Seberapa seringkah anda menggunakan Extension saat membuat program?\"\n",
      "[1] \"Q10 = Seberapa sering anda mengelola (menginstal,menghapus,menonaktifkan instalasi) Extension anda?\"\n",
      "[1] \"Q11 = Apakah anda sering menggunakan Extension berbayar?\"\n",
      "[1] \"Q12 = Apakah anda sering menggunakan Auto Indent Extension\"\n"
     ]
    }
   ],
   "source": [
    "print('Q1  = Seberapa sering anda menggunakan bahasa pemrograman C?')\n",
    "print('Q2  = Seberapa tahukah anda tentang bahasa permograman Java?') \n",
    "print('Q3  = Pernahkah anda membuat program menggunakan bahasa pemrograman Python?')\n",
    "print('Q4  = Seberapa tahukah anda tentang Pemrograman Interface (API)')\n",
    "print('Q5  = Seberapa tahukah anda tentang Pemrograman Berorientasi Objek (OOP)?')\n",
    "print('Q6  = Seberapa sering anda menggunakan programming software bajakan?')\n",
    "print('Q7  = Seberapa perlunya dokumen manual/tutorial ketika membuat program?')\n",
    "print('Q8  = Pernakah anda melakukan trial dan error atau mengembangkan program yang dibuat orang lain?')\n",
    "print('Q9  = Seberapa seringkah anda menggunakan Extension saat membuat program?')\n",
    "print('Q10 = Seberapa sering anda mengelola (menginstal,menghapus,menonaktifkan instalasi) Extension anda?')\n",
    "print('Q11 = Apakah anda sering menggunakan Extension berbayar?')\n",
    "print('Q12 = Apakah anda sering menggunakan Auto Indent Extension')\n"
   ]
  },
  {
   "cell_type": "markdown",
   "metadata": {},
   "source": [
    "# T-Test\n"
   ]
  },
  {
   "cell_type": "code",
   "execution_count": 6,
   "metadata": {},
   "outputs": [],
   "source": [
    "Q1=read.delim(\"clipboard\")"
   ]
  },
  {
   "cell_type": "code",
   "execution_count": 7,
   "metadata": {},
   "outputs": [
    {
     "data": {
      "text/plain": [
       "\n",
       "\tOne Sample t-test\n",
       "\n",
       "data:  Q1\n",
       "t = -105.26, df = 499, p-value < 2.2e-16\n",
       "alternative hypothesis: true mean is less than 8\n",
       "95 percent confidence interval:\n",
       "     -Inf 2.412863\n",
       "sample estimates:\n",
       "mean of x \n",
       "    2.324 \n"
      ]
     },
     "metadata": {},
     "output_type": "display_data"
    }
   ],
   "source": [
    "t.test(Q1, mu=8, alternativ=\"less\", conf.level=0.95)"
   ]
  },
  {
   "cell_type": "code",
   "execution_count": 11,
   "metadata": {},
   "outputs": [],
   "source": [
    "Q2=read.delim(\"clipboard\")"
   ]
  },
  {
   "cell_type": "code",
   "execution_count": 12,
   "metadata": {},
   "outputs": [
    {
     "data": {
      "text/plain": [
       "\n",
       "\tOne Sample t-test\n",
       "\n",
       "data:  Q2\n",
       "t = -119.08, df = 499, p-value < 2.2e-16\n",
       "alternative hypothesis: true mean is less than 8\n",
       "95 percent confidence interval:\n",
       "     -Inf 2.272377\n",
       "sample estimates:\n",
       "mean of x \n",
       "    2.192 \n"
      ]
     },
     "metadata": {},
     "output_type": "display_data"
    }
   ],
   "source": [
    "t.test(Q2, mu=8, alternative=\"less\", conf.level=0.95)"
   ]
  },
  {
   "cell_type": "code",
   "execution_count": 23,
   "metadata": {},
   "outputs": [],
   "source": [
    "Q3=read.delim(\"clipboard\")"
   ]
  },
  {
   "cell_type": "code",
   "execution_count": 24,
   "metadata": {},
   "outputs": [
    {
     "data": {
      "text/plain": [
       "\n",
       "\tOne Sample t-test\n",
       "\n",
       "data:  Q3\n",
       "t = -139.92, df = 499, p-value < 2.2e-16\n",
       "alternative hypothesis: true mean is less than 8\n",
       "95 percent confidence interval:\n",
       "     -Inf 1.675376\n",
       "sample estimates:\n",
       "mean of x \n",
       "      1.6 \n"
      ]
     },
     "metadata": {},
     "output_type": "display_data"
    }
   ],
   "source": [
    "t.test(Q3, mu=8, alternative=\"less\", conf.level=0.95)"
   ]
  },
  {
   "cell_type": "code",
   "execution_count": 25,
   "metadata": {},
   "outputs": [],
   "source": [
    "Q4=read.delim(\"clipboard\")"
   ]
  },
  {
   "cell_type": "code",
   "execution_count": 26,
   "metadata": {},
   "outputs": [
    {
     "data": {
      "text/plain": [
       "\n",
       "\tOne Sample t-test\n",
       "\n",
       "data:  Q4\n",
       "t = -127.56, df = 499, p-value < 2.2e-16\n",
       "alternative hypothesis: true mean is less than 8\n",
       "95 percent confidence interval:\n",
       "     -Inf 2.077512\n",
       "sample estimates:\n",
       "mean of x \n",
       "        2 \n"
      ]
     },
     "metadata": {},
     "output_type": "display_data"
    }
   ],
   "source": [
    "t.test(Q4, mu=8, alternative=\"less\", conf.level=0.95)"
   ]
  },
  {
   "cell_type": "code",
   "execution_count": 27,
   "metadata": {},
   "outputs": [],
   "source": [
    "Q5=read.delim(\"clipboard\")"
   ]
  },
  {
   "cell_type": "code",
   "execution_count": 28,
   "metadata": {},
   "outputs": [
    {
     "data": {
      "text/plain": [
       "\n",
       "\tOne Sample t-test\n",
       "\n",
       "data:  Q5\n",
       "t = -113.79, df = 499, p-value < 2.2e-16\n",
       "alternative hypothesis: true mean is less than 8\n",
       "95 percent confidence interval:\n",
       "     -Inf 2.191356\n",
       "sample estimates:\n",
       "mean of x \n",
       "    2.106 \n"
      ]
     },
     "metadata": {},
     "output_type": "display_data"
    }
   ],
   "source": [
    "t.test(Q5, mu=8, alternative=\"less\", conf.level=0.95)"
   ]
  },
  {
   "cell_type": "code",
   "execution_count": 29,
   "metadata": {},
   "outputs": [],
   "source": [
    "Q6=read.delim(\"clipboard\")"
   ]
  },
  {
   "cell_type": "code",
   "execution_count": 30,
   "metadata": {},
   "outputs": [
    {
     "data": {
      "text/plain": [
       "\n",
       "\tOne Sample t-test\n",
       "\n",
       "data:  Q6\n",
       "t = 40.659, df = 499, p-value = 1\n",
       "alternative hypothesis: true mean is less than 0\n",
       "95 percent confidence interval:\n",
       "     -Inf 2.191356\n",
       "sample estimates:\n",
       "mean of x \n",
       "    2.106 \n"
      ]
     },
     "metadata": {},
     "output_type": "display_data"
    }
   ],
   "source": [
    "t.test(Q6, u=8, alternative=\"less\", conf.level=0.95)"
   ]
  },
  {
   "cell_type": "code",
   "execution_count": 31,
   "metadata": {},
   "outputs": [],
   "source": [
    "Q7=read.delim(\"clipboard\")"
   ]
  },
  {
   "cell_type": "code",
   "execution_count": 32,
   "metadata": {},
   "outputs": [
    {
     "data": {
      "text/plain": [
       "\n",
       "\tOne Sample t-test\n",
       "\n",
       "data:  Q7\n",
       "t = -74.414, df = 499, p-value < 2.2e-16\n",
       "alternative hypothesis: true mean is less than 8\n",
       "95 percent confidence interval:\n",
       "     -Inf 3.879319\n",
       "sample estimates:\n",
       "mean of x \n",
       "    3.786 \n"
      ]
     },
     "metadata": {},
     "output_type": "display_data"
    }
   ],
   "source": [
    "t.test(Q7, mu=8, alternative=\"less\", conf.level=0.95)"
   ]
  },
  {
   "cell_type": "code",
   "execution_count": 33,
   "metadata": {},
   "outputs": [],
   "source": [
    "Q8=read.delim(\"clipboard\")"
   ]
  },
  {
   "cell_type": "code",
   "execution_count": 34,
   "metadata": {},
   "outputs": [
    {
     "data": {
      "text/plain": [
       "\n",
       "\tOne Sample t-test\n",
       "\n",
       "data:  Q8\n",
       "t = -98.764, df = 499, p-value < 2.2e-16\n",
       "alternative hypothesis: true mean is less than 8\n",
       "95 percent confidence interval:\n",
       "     -Inf 2.133545\n",
       "sample estimates:\n",
       "mean of x \n",
       "    2.034 \n"
      ]
     },
     "metadata": {},
     "output_type": "display_data"
    }
   ],
   "source": [
    "t.test(Q8, mu=8, alternative=\"less\", conf.level=0.95)"
   ]
  },
  {
   "cell_type": "code",
   "execution_count": 38,
   "metadata": {},
   "outputs": [],
   "source": [
    "Q9=read.delim(\"clipboard\")"
   ]
  },
  {
   "cell_type": "code",
   "execution_count": 39,
   "metadata": {},
   "outputs": [
    {
     "data": {
      "text/plain": [
       "\n",
       "\tOne Sample t-test\n",
       "\n",
       "data:  Q9\n",
       "t = -107.02, df = 499, p-value < 2.2e-16\n",
       "alternative hypothesis: true mean is less than 8\n",
       "95 percent confidence interval:\n",
       "     -Inf 2.129801\n",
       "sample estimates:\n",
       "mean of x \n",
       "    2.038 \n"
      ]
     },
     "metadata": {},
     "output_type": "display_data"
    }
   ],
   "source": [
    "t.test(Q9, mu=8, alternative=\"less\", conf.level=0.95)"
   ]
  },
  {
   "cell_type": "code",
   "execution_count": 40,
   "metadata": {},
   "outputs": [],
   "source": [
    "Q10=read.delim(\"clipboard\")"
   ]
  },
  {
   "cell_type": "code",
   "execution_count": 41,
   "metadata": {},
   "outputs": [
    {
     "data": {
      "text/plain": [
       "\n",
       "\tOne Sample t-test\n",
       "\n",
       "data:  Q10\n",
       "t = -101.7, df = 499, p-value < 2.2e-16\n",
       "alternative hypothesis: true mean is less than 8\n",
       "95 percent confidence interval:\n",
       "     -Inf 2.299882\n",
       "sample estimates:\n",
       "mean of x \n",
       "    2.206 \n"
      ]
     },
     "metadata": {},
     "output_type": "display_data"
    }
   ],
   "source": [
    "t.test(Q10, mu=8, alternative=\"less\", conf.level=0.95)"
   ]
  },
  {
   "cell_type": "code",
   "execution_count": 42,
   "metadata": {},
   "outputs": [],
   "source": [
    "Q11=read.delim(\"clipboard\")"
   ]
  },
  {
   "cell_type": "code",
   "execution_count": 44,
   "metadata": {},
   "outputs": [
    {
     "data": {
      "text/plain": [
       "\n",
       "\tOne Sample t-test\n",
       "\n",
       "data:  Q11\n",
       "t = -137.28, df = 499, p-value < 2.2e-16\n",
       "alternative hypothesis: true mean is less than 8\n",
       "95 percent confidence interval:\n",
       "     -Inf 1.730176\n",
       "sample estimates:\n",
       "mean of x \n",
       "    1.654 \n"
      ]
     },
     "metadata": {},
     "output_type": "display_data"
    }
   ],
   "source": [
    "t.test(Q11, mu=8, alternative=\"less\", conf.level=0.95)"
   ]
  },
  {
   "cell_type": "code",
   "execution_count": 45,
   "metadata": {},
   "outputs": [],
   "source": [
    "Q12=read.delim(\"clipboard\")"
   ]
  },
  {
   "cell_type": "code",
   "execution_count": 47,
   "metadata": {},
   "outputs": [
    {
     "data": {
      "text/plain": [
       "\n",
       "\tOne Sample t-test\n",
       "\n",
       "data:  Q12\n",
       "t = -132.13, df = 499, p-value < 2.2e-16\n",
       "alternative hypothesis: true mean is less than 8\n",
       "95 percent confidence interval:\n",
       "     -Inf 1.758821\n",
       "sample estimates:\n",
       "mean of x \n",
       "     1.68 \n"
      ]
     },
     "metadata": {},
     "output_type": "display_data"
    }
   ],
   "source": [
    "t.test(Q12, mu=8, alternative=\"less\", conf.level=0.95)"
   ]
  },
  {
   "cell_type": "markdown",
   "metadata": {},
   "source": [
    "# Principal Component Analysis"
   ]
  },
  {
   "cell_type": "code",
   "execution_count": 55,
   "metadata": {},
   "outputs": [
    {
     "name": "stdout",
     "output_type": "stream",
     "text": [
      "[1] \"Q1  = Seberapa sering anda menggunakan bahasa pemrograman C?\"\n",
      "[1] \"Q2  = Seberapa tahukah anda tentang bahasa permograman Java?\"\n",
      "[1] \"Q3  = Pernahkah anda membuat program menggunakan bahasa pemrograman Python?\"\n",
      "[1] \"Q4  = Seberapa tahukah anda tentang Pemrograman Interface (API)\"\n",
      "[1] \"Q5  = Seberapa tahukah anda tentang Pemrograman Berorientasi Objek (OOP)?\"\n",
      "[1] \"Q6  = Seberapa sering anda menggunakan programming software bajakan?\"\n",
      "[1] \"Q7  = Seberapa perlunya dokumen manual/tutorial ketika membuat program?\"\n",
      "[1] \"Q8  = Pernakah anda melakukan trial dan error atau mengembangkan program yang dibuat orang lain?\"\n",
      "[1] \"Q9  = Seberapa seringkah anda menggunakan Extension saat membuat program?\"\n",
      "[1] \"Q10 = Seberapa sering anda mengelola (menginstal,menghapus,menonaktifkan instalasi) Extension anda?\"\n",
      "[1] \"Q11 = Apakah anda sering menggunakan Extension berbayar?\"\n",
      "[1] \"Q12 = Apakah anda sering menggunakan Auto Indent Extension\"\n"
     ]
    }
   ],
   "source": [
    "print('Q1  = Seberapa sering anda menggunakan bahasa pemrograman C?')\n",
    "print('Q2  = Seberapa tahukah anda tentang bahasa permograman Java?') \n",
    "print('Q3  = Pernahkah anda membuat program menggunakan bahasa pemrograman Python?')\n",
    "print('Q4  = Seberapa tahukah anda tentang Pemrograman Interface (API)')\n",
    "print('Q5  = Seberapa tahukah anda tentang Pemrograman Berorientasi Objek (OOP)?')\n",
    "print('Q6  = Seberapa sering anda menggunakan programming software bajakan?')\n",
    "print('Q7  = Seberapa perlunya dokumen manual/tutorial ketika membuat program?')\n",
    "print('Q8  = Pernakah anda melakukan trial dan error atau mengembangkan program yang dibuat orang lain?')\n",
    "print('Q9  = Seberapa seringkah anda menggunakan Extension saat membuat program?')\n",
    "print('Q10 = Seberapa sering anda mengelola (menginstal,menghapus,menonaktifkan instalasi) Extension anda?')\n",
    "print('Q11 = Apakah anda sering menggunakan Extension berbayar?')\n",
    "print('Q12 = Apakah anda sering menggunakan Auto Indent Extension')"
   ]
  },
  {
   "cell_type": "code",
   "execution_count": 48,
   "metadata": {},
   "outputs": [
    {
     "data": {
      "text/html": [
       "<table>\n",
       "<thead><tr><th scope=col>Q1</th><th scope=col>Q2</th><th scope=col>Q3</th><th scope=col>Q4</th><th scope=col>Q5</th><th scope=col>Q6</th><th scope=col>Q7</th><th scope=col>Q8</th><th scope=col>Q9</th><th scope=col>Q10</th><th scope=col>Q11</th><th scope=col>Q12</th></tr></thead>\n",
       "<tbody>\n",
       "\t<tr><td>3</td><td>2</td><td>2</td><td>1</td><td>1</td><td>3</td><td>5</td><td>1</td><td>1</td><td>1</td><td>1</td><td>1</td></tr>\n",
       "\t<tr><td>1</td><td>2</td><td>2</td><td>1</td><td>1</td><td>3</td><td>5</td><td>1</td><td>1</td><td>1</td><td>1</td><td>1</td></tr>\n",
       "\t<tr><td>1</td><td>2</td><td>1</td><td>3</td><td>2</td><td>1</td><td>4</td><td>4</td><td>3</td><td>3</td><td>1</td><td>1</td></tr>\n",
       "\t<tr><td>4</td><td>2</td><td>1</td><td>2</td><td>2</td><td>1</td><td>4</td><td>1</td><td>1</td><td>3</td><td>1</td><td>1</td></tr>\n",
       "\t<tr><td>3</td><td>2</td><td>1</td><td>1</td><td>1</td><td>1</td><td>1</td><td>1</td><td>1</td><td>1</td><td>1</td><td>1</td></tr>\n",
       "\t<tr><td>1</td><td>2</td><td>2</td><td>2</td><td>4</td><td>2</td><td>5</td><td>4</td><td>3</td><td>1</td><td>1</td><td>1</td></tr>\n",
       "</tbody>\n",
       "</table>\n"
      ],
      "text/latex": [
       "\\begin{tabular}{r|llllllllllll}\n",
       " Q1 & Q2 & Q3 & Q4 & Q5 & Q6 & Q7 & Q8 & Q9 & Q10 & Q11 & Q12\\\\\n",
       "\\hline\n",
       "\t 3 & 2 & 2 & 1 & 1 & 3 & 5 & 1 & 1 & 1 & 1 & 1\\\\\n",
       "\t 1 & 2 & 2 & 1 & 1 & 3 & 5 & 1 & 1 & 1 & 1 & 1\\\\\n",
       "\t 1 & 2 & 1 & 3 & 2 & 1 & 4 & 4 & 3 & 3 & 1 & 1\\\\\n",
       "\t 4 & 2 & 1 & 2 & 2 & 1 & 4 & 1 & 1 & 3 & 1 & 1\\\\\n",
       "\t 3 & 2 & 1 & 1 & 1 & 1 & 1 & 1 & 1 & 1 & 1 & 1\\\\\n",
       "\t 1 & 2 & 2 & 2 & 4 & 2 & 5 & 4 & 3 & 1 & 1 & 1\\\\\n",
       "\\end{tabular}\n"
      ],
      "text/markdown": [
       "\n",
       "| Q1 | Q2 | Q3 | Q4 | Q5 | Q6 | Q7 | Q8 | Q9 | Q10 | Q11 | Q12 |\n",
       "|---|---|---|---|---|---|---|---|---|---|---|---|\n",
       "| 3 | 2 | 2 | 1 | 1 | 3 | 5 | 1 | 1 | 1 | 1 | 1 |\n",
       "| 1 | 2 | 2 | 1 | 1 | 3 | 5 | 1 | 1 | 1 | 1 | 1 |\n",
       "| 1 | 2 | 1 | 3 | 2 | 1 | 4 | 4 | 3 | 3 | 1 | 1 |\n",
       "| 4 | 2 | 1 | 2 | 2 | 1 | 4 | 1 | 1 | 3 | 1 | 1 |\n",
       "| 3 | 2 | 1 | 1 | 1 | 1 | 1 | 1 | 1 | 1 | 1 | 1 |\n",
       "| 1 | 2 | 2 | 2 | 4 | 2 | 5 | 4 | 3 | 1 | 1 | 1 |\n",
       "\n"
      ],
      "text/plain": [
       "  Q1 Q2 Q3 Q4 Q5 Q6 Q7 Q8 Q9 Q10 Q11 Q12\n",
       "1 3  2  2  1  1  3  5  1  1  1   1   1  \n",
       "2 1  2  2  1  1  3  5  1  1  1   1   1  \n",
       "3 1  2  1  3  2  1  4  4  3  3   1   1  \n",
       "4 4  2  1  2  2  1  4  1  1  3   1   1  \n",
       "5 3  2  1  1  1  1  1  1  1  1   1   1  \n",
       "6 1  2  2  2  4  2  5  4  3  1   1   1  "
      ]
     },
     "metadata": {},
     "output_type": "display_data"
    }
   ],
   "source": [
    "head(mydata)"
   ]
  },
  {
   "cell_type": "code",
   "execution_count": 49,
   "metadata": {},
   "outputs": [],
   "source": [
    "#Mengambil variabel numaerik\n",
    "data <- mydata[,1:12]\n",
    "data.species <- mydata[,12]"
   ]
  },
  {
   "cell_type": "code",
   "execution_count": 50,
   "metadata": {},
   "outputs": [],
   "source": [
    "#Apply PCA\n",
    "data.pca <- prcomp(data, center=TRUE, scale=TRUE)"
   ]
  },
  {
   "cell_type": "code",
   "execution_count": 51,
   "metadata": {},
   "outputs": [
    {
     "data": {
      "text/plain": [
       "Standard deviations (1, .., p=12):\n",
       " [1] 2.3326266 1.0536365 1.0446394 0.9473275 0.8169615 0.7791856 0.7064940\n",
       " [8] 0.6791705 0.6400818 0.5668032 0.5229273 0.4696980\n",
       "\n",
       "Rotation (n x k) = (12 x 12):\n",
       "           PC1        PC2           PC3          PC4         PC5         PC6\n",
       "Q1  -0.2632823 -0.1720959 -0.2081303043  0.427788652 -0.23316160  0.65283422\n",
       "Q2  -0.3079454 -0.3337303  0.0009678968  0.168234536  0.11290280  0.25318308\n",
       "Q3  -0.2772619 -0.2448509  0.0831662737 -0.325763053 -0.58376625 -0.14775642\n",
       "Q4  -0.3163686 -0.3841279  0.1475440469 -0.141616934  0.29588252 -0.09586402\n",
       "Q5  -0.3141903 -0.3504467  0.2418048877 -0.161285941  0.29074572 -0.07302281\n",
       "Q6  -0.1770489  0.4975749  0.4059236151 -0.381893644  0.25448119  0.53735663\n",
       "Q7  -0.1352374  0.1902357  0.6140308815  0.631057148 -0.11168757 -0.23487036\n",
       "Q8  -0.2949896  0.2401200  0.1466299578 -0.133711083 -0.48947896 -0.02148507\n",
       "Q9  -0.3565182  0.1067263 -0.0275674448  0.002727143  0.09477174 -0.25663618\n",
       "Q10 -0.3169552  0.2416668 -0.2159895837  0.234816330  0.28599508 -0.22432419\n",
       "Q11 -0.2839839  0.2704112 -0.4418838382  0.044157516  0.07538518 -0.07046091\n",
       "Q12 -0.3395679  0.2105809 -0.2520799892 -0.132111196 -0.08212071 -0.08846221\n",
       "            PC7         PC8         PC9        PC10        PC11         PC12\n",
       "Q1  -0.17564724  0.17922478 -0.35706625  0.03415385 -0.02015044  0.046313420\n",
       "Q2   0.15544092 -0.25939723  0.77164729  0.03143113 -0.01005478 -0.025764957\n",
       "Q3   0.19598594  0.52796122  0.13418619 -0.22139588  0.03452377 -0.046402410\n",
       "Q4   0.10853642 -0.10272613 -0.32034639  0.10051845  0.67639316  0.145703101\n",
       "Q5  -0.06220189 -0.11994972 -0.29688353 -0.18302828 -0.64333093 -0.224393635\n",
       "Q6   0.08471244  0.19936313  0.06728986 -0.05104345  0.04639804  0.027117435\n",
       "Q7   0.29920450  0.05739953 -0.06112227  0.07512695 -0.01967498 -0.005556075\n",
       "Q8  -0.33873320 -0.64304214 -0.04618511 -0.17780176  0.11566356 -0.022919063\n",
       "Q9  -0.42808810  0.21276221  0.13909326  0.28213777 -0.19227859  0.649188872\n",
       "Q10 -0.34297494  0.26185340  0.11899715 -0.37563518  0.23428031 -0.459220483\n",
       "Q11  0.57914687 -0.16004486 -0.13934206 -0.36711651 -0.11656608  0.331010832\n",
       "Q12  0.20780857 -0.03024954 -0.07054217  0.71406243 -0.07452964 -0.424578415"
      ]
     },
     "metadata": {},
     "output_type": "display_data"
    }
   ],
   "source": [
    "data.pca"
   ]
  },
  {
   "cell_type": "code",
   "execution_count": 52,
   "metadata": {
    "scrolled": true
   },
   "outputs": [
    {
     "data": {
      "image/png": "[encoded data removed]",
      "text/plain": [
       "Plot with title \"data.pca\""
      ]
     },
     "metadata": {},
     "output_type": "display_data"
    }
   ],
   "source": [
    "# plot method\n",
    "plot(data.pca, type = \"l\")"
   ]
  },
  {
   "cell_type": "code",
   "execution_count": 53,
   "metadata": {},
   "outputs": [
    {
     "data": {
      "text/plain": [
       "Importance of components:\n",
       "                          PC1     PC2     PC3     PC4     PC5     PC6     PC7\n",
       "Standard deviation     2.3326 1.05364 1.04464 0.94733 0.81696 0.77919 0.70649\n",
       "Proportion of Variance 0.4534 0.09251 0.09094 0.07479 0.05562 0.05059 0.04159\n",
       "Cumulative Proportion  0.4534 0.54594 0.63688 0.71167 0.76729 0.81788 0.85947\n",
       "                           PC8     PC9    PC10    PC11    PC12\n",
       "Standard deviation     0.67917 0.64008 0.56680 0.52293 0.46970\n",
       "Proportion of Variance 0.03844 0.03414 0.02677 0.02279 0.01838\n",
       "Cumulative Proportion  0.89791 0.93206 0.95883 0.98162 1.00000"
      ]
     },
     "metadata": {},
     "output_type": "display_data"
    }
   ],
   "source": [
    "summary(data.pca)"
   ]
  },
  {
   "cell_type": "code",
   "execution_count": 54,
   "metadata": {},
   "outputs": [
    {
     "data": {
      "text/html": [
       "<table>\n",
       "<thead><tr><th scope=col>PC1</th><th scope=col>PC2</th><th scope=col>PC3</th><th scope=col>PC4</th><th scope=col>PC5</th><th scope=col>PC6</th><th scope=col>PC7</th><th scope=col>PC8</th><th scope=col>PC9</th><th scope=col>PC10</th><th scope=col>PC11</th><th scope=col>PC12</th></tr></thead>\n",
       "<tbody>\n",
       "\t<tr><td> 1.3928502  </td><td> 0.2093305  </td><td> 0.9061172  </td><td> 0.705342411</td><td>-0.8788499  </td><td> 1.03126547 </td><td> 0.6815058  </td><td> 0.91443360 </td><td> 0.22186229 </td><td> 0.08576528 </td><td>-0.04772570 </td><td> 0.069162142</td></tr>\n",
       "\t<tr><td> 1.8295465  </td><td> 0.4947795  </td><td> 1.2513351  </td><td>-0.004214489</td><td>-0.4921135  </td><td>-0.05156602 </td><td> 0.9728452  </td><td> 0.61716022 </td><td> 0.81411461 </td><td> 0.02911558 </td><td>-0.01430293 </td><td>-0.007656182</td></tr>\n",
       "\t<tr><td>-0.1167744  </td><td>-0.1346758  </td><td> 0.4888417  </td><td> 0.074177573</td><td> 0.1009095  </td><td>-1.61012501 </td><td>-1.4115440  </td><td>-1.22714841 </td><td> 0.06918321 </td><td>-0.23332595 </td><td> 0.94244834 </td><td> 0.353925551</td></tr>\n",
       "\t<tr><td> 0.7565710  </td><td>-0.9022936  </td><td>-0.4506718  </td><td> 1.565754450</td><td> 0.1744585  </td><td> 0.56503624 </td><td>-0.5120889  </td><td> 0.40302697 </td><td>-0.63536362 </td><td>-0.30201795 </td><td> 0.30104090 </td><td>-0.660799684</td></tr>\n",
       "\t<tr><td> 2.3650071  </td><td>-0.9218881  </td><td>-1.7427714  </td><td>-0.378871979</td><td>-0.3489237  </td><td> 1.08645168 </td><td>-0.5863126  </td><td>-0.09147139 </td><td> 0.17965780 </td><td> 0.14386612 </td><td>-0.09109987 </td><td> 0.090135151</td></tr>\n",
       "\t<tr><td>-0.3757268  </td><td>-0.4583441  </td><td> 1.9853939  </td><td>-0.553852807</td><td>-0.5894983  </td><td>-1.20723090 </td><td>-0.5902538  </td><td>-1.03199275 </td><td>-0.19075075 </td><td>-0.25182061 </td><td>-1.12527562 </td><td> 0.520097140</td></tr>\n",
       "</tbody>\n",
       "</table>\n"
      ],
      "text/latex": [
       "\\begin{tabular}{llllllllllll}\n",
       " PC1 & PC2 & PC3 & PC4 & PC5 & PC6 & PC7 & PC8 & PC9 & PC10 & PC11 & PC12\\\\\n",
       "\\hline\n",
       "\t  1.3928502   &  0.2093305   &  0.9061172   &  0.705342411 & -0.8788499   &  1.03126547  &  0.6815058   &  0.91443360  &  0.22186229  &  0.08576528  & -0.04772570  &  0.069162142\\\\\n",
       "\t  1.8295465   &  0.4947795   &  1.2513351   & -0.004214489 & -0.4921135   & -0.05156602  &  0.9728452   &  0.61716022  &  0.81411461  &  0.02911558  & -0.01430293  & -0.007656182\\\\\n",
       "\t -0.1167744   & -0.1346758   &  0.4888417   &  0.074177573 &  0.1009095   & -1.61012501  & -1.4115440   & -1.22714841  &  0.06918321  & -0.23332595  &  0.94244834  &  0.353925551\\\\\n",
       "\t  0.7565710   & -0.9022936   & -0.4506718   &  1.565754450 &  0.1744585   &  0.56503624  & -0.5120889   &  0.40302697  & -0.63536362  & -0.30201795  &  0.30104090  & -0.660799684\\\\\n",
       "\t  2.3650071   & -0.9218881   & -1.7427714   & -0.378871979 & -0.3489237   &  1.08645168  & -0.5863126   & -0.09147139  &  0.17965780  &  0.14386612  & -0.09109987  &  0.090135151\\\\\n",
       "\t -0.3757268   & -0.4583441   &  1.9853939   & -0.553852807 & -0.5894983   & -1.20723090  & -0.5902538   & -1.03199275  & -0.19075075  & -0.25182061  & -1.12527562  &  0.520097140\\\\\n",
       "\\end{tabular}\n"
      ],
      "text/markdown": [
       "\n",
       "| PC1 | PC2 | PC3 | PC4 | PC5 | PC6 | PC7 | PC8 | PC9 | PC10 | PC11 | PC12 |\n",
       "|---|---|---|---|---|---|---|---|---|---|---|---|\n",
       "|  1.3928502   |  0.2093305   |  0.9061172   |  0.705342411 | -0.8788499   |  1.03126547  |  0.6815058   |  0.91443360  |  0.22186229  |  0.08576528  | -0.04772570  |  0.069162142 |\n",
       "|  1.8295465   |  0.4947795   |  1.2513351   | -0.004214489 | -0.4921135   | -0.05156602  |  0.9728452   |  0.61716022  |  0.81411461  |  0.02911558  | -0.01430293  | -0.007656182 |\n",
       "| -0.1167744   | -0.1346758   |  0.4888417   |  0.074177573 |  0.1009095   | -1.61012501  | -1.4115440   | -1.22714841  |  0.06918321  | -0.23332595  |  0.94244834  |  0.353925551 |\n",
       "|  0.7565710   | -0.9022936   | -0.4506718   |  1.565754450 |  0.1744585   |  0.56503624  | -0.5120889   |  0.40302697  | -0.63536362  | -0.30201795  |  0.30104090  | -0.660799684 |\n",
       "|  2.3650071   | -0.9218881   | -1.7427714   | -0.378871979 | -0.3489237   |  1.08645168  | -0.5863126   | -0.09147139  |  0.17965780  |  0.14386612  | -0.09109987  |  0.090135151 |\n",
       "| -0.3757268   | -0.4583441   |  1.9853939   | -0.553852807 | -0.5894983   | -1.20723090  | -0.5902538   | -1.03199275  | -0.19075075  | -0.25182061  | -1.12527562  |  0.520097140 |\n",
       "\n"
      ],
      "text/plain": [
       "     PC1        PC2        PC3        PC4          PC5        PC6        \n",
       "[1,]  1.3928502  0.2093305  0.9061172  0.705342411 -0.8788499  1.03126547\n",
       "[2,]  1.8295465  0.4947795  1.2513351 -0.004214489 -0.4921135 -0.05156602\n",
       "[3,] -0.1167744 -0.1346758  0.4888417  0.074177573  0.1009095 -1.61012501\n",
       "[4,]  0.7565710 -0.9022936 -0.4506718  1.565754450  0.1744585  0.56503624\n",
       "[5,]  2.3650071 -0.9218881 -1.7427714 -0.378871979 -0.3489237  1.08645168\n",
       "[6,] -0.3757268 -0.4583441  1.9853939 -0.553852807 -0.5894983 -1.20723090\n",
       "     PC7        PC8         PC9         PC10        PC11        PC12        \n",
       "[1,]  0.6815058  0.91443360  0.22186229  0.08576528 -0.04772570  0.069162142\n",
       "[2,]  0.9728452  0.61716022  0.81411461  0.02911558 -0.01430293 -0.007656182\n",
       "[3,] -1.4115440 -1.22714841  0.06918321 -0.23332595  0.94244834  0.353925551\n",
       "[4,] -0.5120889  0.40302697 -0.63536362 -0.30201795  0.30104090 -0.660799684\n",
       "[5,] -0.5863126 -0.09147139  0.17965780  0.14386612 -0.09109987  0.090135151\n",
       "[6,] -0.5902538 -1.03199275 -0.19075075 -0.25182061 -1.12527562  0.520097140"
      ]
     },
     "metadata": {},
     "output_type": "display_data"
    }
   ],
   "source": [
    "#Jika masing-masing data pada keempat variabel dimasukkan dalam kombinasi linier yang terbentuk maka akan terbentuk data baru yaitu sebagai berikut. Dengan menggunakan fungsi predict() dapat ditampilkan data hasil PCA.\n",
    "\n",
    "prediksi=predict(data.pca, newdata=data)\n",
    "head(prediksi)"
   ]
  }
 ],
 "metadata": {
  "kernelspec": {
   "display_name": "R",
   "language": "R",
   "name": "ir"
  },
  "language_info": {
   "codemirror_mode": "r",
   "file_extension": ".r",
   "mimetype": "text/x-r-source",
   "name": "R",
   "pygments_lexer": "r",
   "version": "3.6.1"
  }
 },
 "nbformat": 4,
 "nbformat_minor": 4
}
